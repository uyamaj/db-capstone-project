{
 "cells": [
  {
   "cell_type": "code",
   "execution_count": 1,
   "id": "ab818e47",
   "metadata": {
    "scrolled": true
   },
   "outputs": [],
   "source": [
    "#!pip install mysql-connector-python"
   ]
  },
  {
   "cell_type": "code",
   "execution_count": 17,
   "id": "bf17228d",
   "metadata": {},
   "outputs": [],
   "source": [
    "import mysql.connector as connector"
   ]
  },
  {
   "cell_type": "code",
   "execution_count": 18,
   "id": "af8ca8df",
   "metadata": {},
   "outputs": [],
   "source": [
    "connection = connector.connect(user=\"root\", password=\"mysqluje\")"
   ]
  },
  {
   "cell_type": "code",
   "execution_count": 19,
   "id": "4f646fac",
   "metadata": {},
   "outputs": [],
   "source": [
    "cursor=connection.cursor()"
   ]
  },
  {
   "cell_type": "code",
   "execution_count": 20,
   "id": "91fc5e7e",
   "metadata": {},
   "outputs": [],
   "source": [
    "create_database_query=\"\"\"CREATE DATABASE little_lemon\"\"\""
   ]
  },
  {
   "cell_type": "code",
   "execution_count": 21,
   "id": "f335d181",
   "metadata": {},
   "outputs": [],
   "source": [
    "#cursor.execute(create_database_query)"
   ]
  },
  {
   "cell_type": "code",
   "execution_count": 22,
   "id": "65c0792d",
   "metadata": {},
   "outputs": [],
   "source": [
    "use_database_query=\"\"\"USE little_lemon\"\"\""
   ]
  },
  {
   "cell_type": "code",
   "execution_count": 23,
   "id": "685737e7",
   "metadata": {},
   "outputs": [],
   "source": [
    "cursor.execute(use_database_query)"
   ]
  },
  {
   "cell_type": "code",
   "execution_count": 24,
   "id": "5ed2c350",
   "metadata": {},
   "outputs": [
    {
     "name": "stdout",
     "output_type": "stream",
     "text": [
      "('bookings',)\n",
      "('employees',)\n",
      "('menuitems',)\n",
      "('menus',)\n",
      "('orders',)\n"
     ]
    }
   ],
   "source": [
    "cursor.execute(\"SHOW TABLES\")\n",
    "for table in cursor:\n",
    "    print(table)"
   ]
  },
  {
   "cell_type": "code",
   "execution_count": 50,
   "id": "a1413206",
   "metadata": {},
   "outputs": [
    {
     "name": "stdout",
     "output_type": "stream",
     "text": [
      "('BookingID', 'TotalCost')\n",
      "(1, 86)\n"
     ]
    }
   ],
   "source": [
    "cursor.execute(\"\"\"SELECT \n",
    "BookingID, BillAmount as TotalCost\n",
    "FROM Orders\n",
    "WHERE BillAmount>=60\n",
    "ORDER BY BillAmount ASC\n",
    "\"\"\")\n",
    "results=cursor.fetchall()\n",
    "columns=cursor.column_names\n",
    "print(columns)\n",
    "for result in results:\n",
    "    print(result)"
   ]
  },
  {
   "cell_type": "code",
   "execution_count": null,
   "id": "e3f03c6a",
   "metadata": {},
   "outputs": [],
   "source": []
  }
 ],
 "metadata": {
  "kernelspec": {
   "display_name": "Python 3 (ipykernel)",
   "language": "python",
   "name": "python3"
  },
  "language_info": {
   "codemirror_mode": {
    "name": "ipython",
    "version": 3
   },
   "file_extension": ".py",
   "mimetype": "text/x-python",
   "name": "python",
   "nbconvert_exporter": "python",
   "pygments_lexer": "ipython3",
   "version": "3.10.9"
  }
 },
 "nbformat": 4,
 "nbformat_minor": 5
}
